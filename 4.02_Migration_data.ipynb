{
 "cells": [
  {
   "cell_type": "markdown",
   "metadata": {},
   "source": [
    "# International Passenger Survey 4.02, main reason for migration by citizenship\n",
    "\n",
    "Convert all tabs from latest Excel spreadsheet\n",
    "https://www.ons.gov.uk/peoplepopulationandcommunity/populationandmigration/internationalmigration/datasets/ipsmainreasonformigrationbycitizenship"
   ]
  },
  {
   "cell_type": "code",
   "execution_count": 1,
   "metadata": {},
   "outputs": [],
   "source": [
    "%run lib/scrape_ons.ipynb\n",
    "\n",
    "metadata = scrape('https://www.ons.gov.uk/peoplepopulationandcommunity/populationandmigration/' \\\n",
    "                  'internationalmigration/datasets/ipsmainreasonformigrationbycitizenship')"
   ]
  },
  {
   "cell_type": "markdown",
   "metadata": {},
   "source": [
    "Download the spreadsheet and load directly into Pandas."
   ]
  },
  {
   "cell_type": "code",
   "execution_count": 2,
   "metadata": {},
   "outputs": [],
   "source": [
    "from databaker.framework import *\n",
    "import pandas as pd\n",
    "\n",
    "xls = pd.ExcelFile(BytesIO(session.get(metadata['fileURL']).content))"
   ]
  },
  {
   "cell_type": "markdown",
   "metadata": {},
   "source": [
    "Now run separate notebooks for each tab in the spreadsheet and collate the results in a single DataFrame."
   ]
  },
  {
   "cell_type": "code",
   "execution_count": 3,
   "metadata": {},
   "outputs": [],
   "source": [
    "next_table = pd.DataFrame()"
   ]
  },
  {
   "cell_type": "code",
   "execution_count": 4,
   "metadata": {},
   "outputs": [],
   "source": [
    "%%capture\n",
    "%run \"LTIM IPS  4.02A Reason for migration.ipynb\"\n",
    "next_table = pd.concat([next_table, Final_table])\n",
    "\n",
    "%run \"LTIM IPS  4.02B Reason for migration.ipynb\"\n",
    "next_table = pd.concat([next_table, Final_table])\n",
    "\n",
    "%run\"LTIM IPS  4.02C Reason for migration.ipynb\"\n",
    "next_table = pd.concat([next_table, Final_table])\n",
    "\n",
    "%run \"LTIM IPS  4.02D Reason for migration.ipynb\"\n",
    "next_table = pd.concat([next_table, Final_table])"
   ]
  },
  {
   "cell_type": "code",
   "execution_count": 5,
   "metadata": {},
   "outputs": [
    {
     "data": {
      "text/plain": [
       "Geography               1339\n",
       "Year                    1339\n",
       "Country of Residence    1339\n",
       "Migration Flow          1339\n",
       "Reason for migration    1339\n",
       "Measure Type            1339\n",
       "Value                   1339\n",
       "CI                      1339\n",
       "Unit                    1339\n",
       "dtype: int64"
      ]
     },
     "execution_count": 5,
     "metadata": {},
     "output_type": "execute_result"
    }
   ],
   "source": [
    "next_table.count()"
   ]
  },
  {
   "cell_type": "code",
   "execution_count": 6,
   "metadata": {},
   "outputs": [],
   "source": [
    "next_table = next_table[['Geography','Year','Country of Residence','Migration Flow','Reason for migration','Measure Type','Value','CI','Unit']]"
   ]
  },
  {
   "cell_type": "code",
   "execution_count": 7,
   "metadata": {},
   "outputs": [
    {
     "data": {
      "text/html": [
       "<div>\n",
       "<style scoped>\n",
       "    .dataframe tbody tr th:only-of-type {\n",
       "        vertical-align: middle;\n",
       "    }\n",
       "\n",
       "    .dataframe tbody tr th {\n",
       "        vertical-align: top;\n",
       "    }\n",
       "\n",
       "    .dataframe thead th {\n",
       "        text-align: right;\n",
       "    }\n",
       "</style>\n",
       "<table border=\"1\" class=\"dataframe\">\n",
       "  <thead>\n",
       "    <tr style=\"text-align: right;\">\n",
       "      <th></th>\n",
       "      <th>Geography</th>\n",
       "      <th>Year</th>\n",
       "      <th>Country of Residence</th>\n",
       "      <th>Migration Flow</th>\n",
       "      <th>Reason for migration</th>\n",
       "      <th>Measure Type</th>\n",
       "      <th>Value</th>\n",
       "      <th>CI</th>\n",
       "      <th>Unit</th>\n",
       "    </tr>\n",
       "  </thead>\n",
       "  <tbody>\n",
       "    <tr>\n",
       "      <th>1</th>\n",
       "      <td>K02000001</td>\n",
       "      <td>2016</td>\n",
       "      <td>all</td>\n",
       "      <td>inflow</td>\n",
       "      <td>all reasons</td>\n",
       "      <td>Count</td>\n",
       "      <td>526.6</td>\n",
       "      <td>34.4</td>\n",
       "      <td>People (thousands)</td>\n",
       "    </tr>\n",
       "    <tr>\n",
       "      <th>3</th>\n",
       "      <td>K02000001</td>\n",
       "      <td>2016</td>\n",
       "      <td>all</td>\n",
       "      <td>inflow</td>\n",
       "      <td>work related reasons</td>\n",
       "      <td>Count</td>\n",
       "      <td>263.0</td>\n",
       "      <td>23.6</td>\n",
       "      <td>People (thousands)</td>\n",
       "    </tr>\n",
       "    <tr>\n",
       "      <th>5</th>\n",
       "      <td>K02000001</td>\n",
       "      <td>2016</td>\n",
       "      <td>all</td>\n",
       "      <td>inflow</td>\n",
       "      <td>definite job</td>\n",
       "      <td>Count</td>\n",
       "      <td>172.3</td>\n",
       "      <td>19.0</td>\n",
       "      <td>People (thousands)</td>\n",
       "    </tr>\n",
       "    <tr>\n",
       "      <th>7</th>\n",
       "      <td>K02000001</td>\n",
       "      <td>2016</td>\n",
       "      <td>all</td>\n",
       "      <td>inflow</td>\n",
       "      <td>looking for work</td>\n",
       "      <td>Count</td>\n",
       "      <td>90.6</td>\n",
       "      <td>14.0</td>\n",
       "      <td>People (thousands)</td>\n",
       "    </tr>\n",
       "    <tr>\n",
       "      <th>9</th>\n",
       "      <td>K02000001</td>\n",
       "      <td>2016</td>\n",
       "      <td>all</td>\n",
       "      <td>inflow</td>\n",
       "      <td>accompany or join</td>\n",
       "      <td>Count</td>\n",
       "      <td>83.3</td>\n",
       "      <td>12.4</td>\n",
       "      <td>People (thousands)</td>\n",
       "    </tr>\n",
       "  </tbody>\n",
       "</table>\n",
       "</div>"
      ],
      "text/plain": [
       "   Geography  Year Country of Residence Migration Flow  Reason for migration  \\\n",
       "1  K02000001  2016                  all         inflow           all reasons   \n",
       "3  K02000001  2016                  all         inflow  work related reasons   \n",
       "5  K02000001  2016                  all         inflow          definite job   \n",
       "7  K02000001  2016                  all         inflow      looking for work   \n",
       "9  K02000001  2016                  all         inflow     accompany or join   \n",
       "\n",
       "  Measure Type  Value    CI                Unit  \n",
       "1        Count  526.6  34.4  People (thousands)  \n",
       "3        Count  263.0  23.6  People (thousands)  \n",
       "5        Count  172.3  19.0  People (thousands)  \n",
       "7        Count   90.6  14.0  People (thousands)  \n",
       "9        Count   83.3  12.4  People (thousands)  "
      ]
     },
     "execution_count": 7,
     "metadata": {},
     "output_type": "execute_result"
    }
   ],
   "source": [
    "next_table.head()"
   ]
  },
  {
   "cell_type": "code",
   "execution_count": 8,
   "metadata": {},
   "outputs": [
    {
     "data": {
      "text/html": [
       "<div>\n",
       "<style scoped>\n",
       "    .dataframe tbody tr th:only-of-type {\n",
       "        vertical-align: middle;\n",
       "    }\n",
       "\n",
       "    .dataframe tbody tr th {\n",
       "        vertical-align: top;\n",
       "    }\n",
       "\n",
       "    .dataframe thead th {\n",
       "        text-align: right;\n",
       "    }\n",
       "</style>\n",
       "<table border=\"1\" class=\"dataframe\">\n",
       "  <thead>\n",
       "    <tr style=\"text-align: right;\">\n",
       "      <th></th>\n",
       "      <th>Geography</th>\n",
       "      <th>Year</th>\n",
       "      <th>Country of Residence</th>\n",
       "      <th>Migration Flow</th>\n",
       "      <th>Reason for migration</th>\n",
       "      <th>Measure Type</th>\n",
       "      <th>Value</th>\n",
       "      <th>CI</th>\n",
       "      <th>Unit</th>\n",
       "    </tr>\n",
       "  </thead>\n",
       "  <tbody>\n",
       "    <tr>\n",
       "      <th>1243</th>\n",
       "      <td>K02000001</td>\n",
       "      <td>2016</td>\n",
       "      <td>zambia</td>\n",
       "      <td>inflow</td>\n",
       "      <td>formal study</td>\n",
       "      <td>Count</td>\n",
       "      <td>2.3</td>\n",
       "      <td>4.6</td>\n",
       "      <td>People (thousands)</td>\n",
       "    </tr>\n",
       "    <tr>\n",
       "      <th>1249</th>\n",
       "      <td>K02000001</td>\n",
       "      <td>2016</td>\n",
       "      <td>zimbabwe</td>\n",
       "      <td>inflow</td>\n",
       "      <td>all reasons</td>\n",
       "      <td>Count</td>\n",
       "      <td>0.2</td>\n",
       "      <td>0.3</td>\n",
       "      <td>People (thousands)</td>\n",
       "    </tr>\n",
       "    <tr>\n",
       "      <th>1251</th>\n",
       "      <td>K02000001</td>\n",
       "      <td>2016</td>\n",
       "      <td>zimbabwe</td>\n",
       "      <td>inflow</td>\n",
       "      <td>work related reasons</td>\n",
       "      <td>Count</td>\n",
       "      <td>0.1</td>\n",
       "      <td>0.1</td>\n",
       "      <td>People (thousands)</td>\n",
       "    </tr>\n",
       "    <tr>\n",
       "      <th>1253</th>\n",
       "      <td>K02000001</td>\n",
       "      <td>2016</td>\n",
       "      <td>zimbabwe</td>\n",
       "      <td>inflow</td>\n",
       "      <td>looking for work</td>\n",
       "      <td>Count</td>\n",
       "      <td>0.1</td>\n",
       "      <td>0.1</td>\n",
       "      <td>People (thousands)</td>\n",
       "    </tr>\n",
       "    <tr>\n",
       "      <th>1255</th>\n",
       "      <td>K02000001</td>\n",
       "      <td>2016</td>\n",
       "      <td>zimbabwe</td>\n",
       "      <td>inflow</td>\n",
       "      <td>formal study</td>\n",
       "      <td>Count</td>\n",
       "      <td>0.2</td>\n",
       "      <td>0.3</td>\n",
       "      <td>People (thousands)</td>\n",
       "    </tr>\n",
       "  </tbody>\n",
       "</table>\n",
       "</div>"
      ],
      "text/plain": [
       "      Geography  Year Country of Residence Migration Flow  \\\n",
       "1243  K02000001  2016               zambia         inflow   \n",
       "1249  K02000001  2016             zimbabwe         inflow   \n",
       "1251  K02000001  2016             zimbabwe         inflow   \n",
       "1253  K02000001  2016             zimbabwe         inflow   \n",
       "1255  K02000001  2016             zimbabwe         inflow   \n",
       "\n",
       "      Reason for migration Measure Type  Value   CI                Unit  \n",
       "1243          formal study        Count    2.3  4.6  People (thousands)  \n",
       "1249           all reasons        Count    0.2  0.3  People (thousands)  \n",
       "1251  work related reasons        Count    0.1  0.1  People (thousands)  \n",
       "1253      looking for work        Count    0.1  0.1  People (thousands)  \n",
       "1255          formal study        Count    0.2  0.3  People (thousands)  "
      ]
     },
     "execution_count": 8,
     "metadata": {},
     "output_type": "execute_result"
    }
   ],
   "source": [
    "next_table.tail()"
   ]
  },
  {
   "cell_type": "code",
   "execution_count": 9,
   "metadata": {},
   "outputs": [],
   "source": [
    "out = Path('out')\n",
    "out.mkdir(exist_ok=True)\n",
    "next_table.to_csv(out / 'migration_4.02.csv', index = False)"
   ]
  },
  {
   "cell_type": "code",
   "execution_count": 10,
   "metadata": {},
   "outputs": [],
   "source": [
    "writeMetadata(metadata, 'ONS LTIM Passenger Survey 4.02', 'Migration')"
   ]
  }
 ],
 "metadata": {
  "kernelspec": {
   "display_name": "Python 3",
   "language": "python",
   "name": "python3"
  },
  "language_info": {
   "codemirror_mode": {
    "name": "ipython",
    "version": 3
   },
   "file_extension": ".py",
   "mimetype": "text/x-python",
   "name": "python",
   "nbconvert_exporter": "python",
   "pygments_lexer": "ipython3",
   "version": "3.6.6"
  }
 },
 "nbformat": 4,
 "nbformat_minor": 2
}
