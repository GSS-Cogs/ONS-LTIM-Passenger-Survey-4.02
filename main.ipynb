{
 "cells": [
  {
   "cell_type": "markdown",
   "metadata": {},
   "source": [
    "# International Passenger Survey 4.02, main reason for migration by citizenship\n",
    "\n",
    "Convert all tabs from latest Excel spreadsheet\n",
    "https://www.ons.gov.uk/peoplepopulationandcommunity/populationandmigration/internationalmigration/datasets/ipsmainreasonformigrationbycitizenship"
   ]
  },
  {
   "cell_type": "code",
   "execution_count": null,
   "metadata": {},
   "outputs": [],
   "source": [
    "from gssutils import *\n",
    "\n",
    "scraper = Scraper('https://www.ons.gov.uk/peoplepopulationandcommunity/populationandmigration/' \\\n",
    "                  'internationalmigration/datasets/ipsmainreasonformigrationbycitizenship')\n",
    "scraper"
   ]
  },
  {
   "cell_type": "code",
   "execution_count": null,
   "metadata": {
    "collapsed": true
   },
   "outputs": [],
   "source": [
    "tabs = scraper.distributions[0].as_databaker()"
   ]
  },
  {
   "cell_type": "markdown",
   "metadata": {},
   "source": [
    "Each tab is of the same form, with \"software readable codes\":\n",
    "> The datasheets can be imported directly into suitable software. When importing the datasheets into other software import only rows 8 to 26, starting at column C."
   ]
  },
  {
   "cell_type": "code",
   "execution_count": null,
   "metadata": {},
   "outputs": [],
   "source": [
    "def citizenship_code(s):\n",
    "    code = pathify(s)\n",
    "    assert code.startswith('cit-'), code\n",
    "    code = code[4:]\n",
    "    assert code.endswith('-est'), code\n",
    "    code = code[:-4]\n",
    "    return code.replace('-/-', '-')\n",
    "\n",
    "def flow_code(s):\n",
    "    return pathify(s[:s.find(',')])\n",
    "\n",
    "def reason_code(s):\n",
    "    return pathify(s[s.find(',')+1:].strip())\n",
    "\n",
    "tidied_sheets = []\n",
    "\n",
    "for tab in tabs:\n",
    "    if not tab.name.startswith('Data'):\n",
    "        continue\n",
    "    year = int(tab.excel_ref('A2').value[-4:])\n",
    "\n",
    "    start = tab.excel_ref('C8')\n",
    "    end = tab.excel_ref('C26')\n",
    "    codes = start.fill(DOWN) & end.expand(UP)\n",
    "    observations = codes.fill(RIGHT)\n",
    "    citizenship = start.shift(RIGHT).fill(RIGHT)\n",
    "    # sheets B, C and D repeat 'All citizenships', 'British' and 'Stateless' from sheet A\n",
    "    if not tab.name.endswith('A'):\n",
    "        citizenship = citizenship - citizenship.regex(r'CIT (All|British|Stateless)')\n",
    "    citizenship_ci = citizenship.regex(r'.*CI\\s*$')\n",
    "    citizenship_est = citizenship - citizenship_ci\n",
    "    observations_est = observations & citizenship_est.fill(DOWN)\n",
    "    observations_ci = observations & citizenship_ci.fill(DOWN)\n",
    "    cs_est = ConversionSegment(observations_est, [\n",
    "        HDimConst('Year', year),\n",
    "        HDim(codes, 'Code', DIRECTLY, LEFT),\n",
    "        HDim(citizenship_est, 'IPS Citizenship', DIRECTLY, ABOVE),\n",
    "        HDim(observations_ci, 'CI', DIRECTLY, RIGHT),\n",
    "        HDimConst('Measure Type', 'Count'),\n",
    "        HDimConst('Unit', 'people-thousands')\n",
    "    ])\n",
    "\n",
    "    savepreviewhtml(cs_est)\n",
    "    tidy_sheet = cs_est.topandas()\n",
    "    tidy_sheet['IPS Citizenship'] = tidy_sheet['IPS Citizenship'].apply(citizenship_code)\n",
    "    tidy_sheet['Migration Flow'] = tidy_sheet['Code'].apply(flow_code)\n",
    "    tidy_sheet['Reason for migration'] = tidy_sheet['Code'].apply(reason_code)\n",
    "    tidy_sheet = tidy_sheet[pd.isna(tidy_sheet['DATAMARKER'])].copy() # Todo: data markers\n",
    "    tidy_sheet.drop(columns=['Code'], inplace=True)\n",
    "    tidy_sheet.rename(columns={'OBS': 'Value', 'DATAMARKER': 'IPS Marker'}, inplace=True)\n",
    "    tidy_sheet = tidy_sheet[['Year', 'Reason for migration', 'Migration Flow', 'IPS Citizenship', 'CI',\n",
    "                             'Value','IPS Marker', 'Measure Type', 'Unit']]\n",
    "    tidied_sheets.append(tidy_sheet)\n",
    "tidy = pd.concat(tidied_sheets)\n",
    "\n",
    "from IPython.core.display import HTML\n",
    "for col in ['Reason for migration', 'Migration Flow', 'IPS Citizenship', 'Measure Type', 'Unit','IPS Marker' ]:\n",
    "    tidy[col] = tidy[col].astype('category')\n",
    "    display(HTML(f\"<h2>{col}</h2>\"))\n",
    "    display(tidy[col].cat.categories)"
   ]
  },
  {
   "cell_type": "code",
   "execution_count": null,
   "metadata": {
    "collapsed": true
   },
   "outputs": [],
   "source": [
    "tidy['Reason for migration'] = tidy['Reason for migration'].cat.rename_categories({\n",
    "    'definite-job': 'work-related-definite-job',\n",
    "    'looking-for-work': 'work-related-looking-for-work',\n",
    "    'other-reasons': 'other',\n",
    "    'work-related-reasons': 'work-related-all'\n",
    "})\n",
    "\n",
    "out = Path('out')\n",
    "out.mkdir(exist_ok=True, parents=True)\n",
    "tidy.to_csv(out / 'observations.csv', index=False)"
   ]
  },
  {
   "cell_type": "code",
   "execution_count": null,
   "metadata": {},
   "outputs": [],
   "source": [
    "tidy['IPS Marker'] = tidy['IPS Marker'].cat.rename_categories({\n",
    "    'z': 'not-applicable',\n",
    "    '.': 'no-contact',\n",
    "    '0~': 'rounds-to-zero'})"
   ]
  },
  {
   "cell_type": "code",
   "execution_count": null,
   "metadata": {
    "collapsed": true
   },
   "outputs": [],
   "source": [
    "from gssutils.metadata import THEME\n",
    "\n",
    "scraper.dataset.family = 'migration'\n",
    "scraper.dataset.theme = THEME['population']\n",
    "with open(out / 'dataset.trig', 'wb') as metadata:\n",
    "    metadata.write(scraper.generate_trig())"
   ]
  },
  {
   "cell_type": "code",
   "execution_count": null,
   "metadata": {
    "collapsed": true
   },
   "outputs": [],
   "source": [
    "csvw = CSVWMetadata('https://gss-cogs.github.io/ref_migration/')\n",
    "csvw.create(out / 'observations.csv', out / 'observations.csv-schema.json')"
   ]
  },
  {
   "cell_type": "code",
   "execution_count": null,
   "metadata": {},
   "outputs": [],
   "source": [
    "tidy['Measure Type'].cat.categories = tidy['Measure Type'].cat.categories.map(pathify)\n",
    "tidy.to_csv(out / 'observations-alt.csv', index = False)\n",
    "csvw.create(out / 'observations-alt.csv', out / 'observations-alt.csv-metadata.json', with_transform=True,\n",
    "            base_url='http://gss-data.org.uk/data/', base_path='gss_data/migration/ons-ltim-passenger-survey-4-01',\n",
    "            dataset_metadata=scraper.dataset.as_quads())"
   ]
  },
  {
   "cell_type": "code",
   "execution_count": null,
   "metadata": {
    "collapsed": true
   },
   "outputs": [],
   "source": []
  }
 ],
 "metadata": {
  "kernelspec": {
   "display_name": "Python 3",
   "language": "python",
   "name": "python3"
  },
  "language_info": {
   "codemirror_mode": {
    "name": "ipython",
    "version": 3
   },
   "file_extension": ".py",
   "mimetype": "text/x-python",
   "name": "python",
   "nbconvert_exporter": "python",
   "pygments_lexer": "ipython3",
   "version": "3.6.3"
  }
 },
 "nbformat": 4,
 "nbformat_minor": 2
}
